{
  "nbformat": 4,
  "nbformat_minor": 0,
  "metadata": {
    "colab": {
      "provenance": [],
      "authorship_tag": "ABX9TyMptRooKOUoYwPTueH+Nm+E",
      "include_colab_link": true
    },
    "kernelspec": {
      "name": "python3",
      "display_name": "Python 3"
    },
    "language_info": {
      "name": "python"
    }
  },
  "cells": [
    {
      "cell_type": "markdown",
      "metadata": {
        "id": "view-in-github",
        "colab_type": "text"
      },
      "source": [
        "<a href=\"https://colab.research.google.com/github/florenciaRgo/florenciaramirez.github.io/blob/main/M1T1.ipynb\" target=\"_parent\"><img src=\"https://colab.research.google.com/assets/colab-badge.svg\" alt=\"Open In Colab\"/></a>"
      ]
    },
    {
      "cell_type": "code",
      "execution_count": 18,
      "metadata": {
        "colab": {
          "base_uri": "https://localhost:8080/"
        },
        "id": "l4DT1kE9zzEv",
        "outputId": "c49641c4-893d-444f-a768-251405cdfd49"
      },
      "outputs": [
        {
          "output_type": "stream",
          "name": "stdout",
          "text": [
            "Introduzca el nombre Florenci\n",
            "¡ Bienvenido Florenci !\n"
          ]
        }
      ],
      "source": [
        "#1. Cree un algoritmo que reciba un nombre de una persona e imprima la frase \"¡Bienvenido, (nombre escrito)!\"\n",
        "Nombre = input(\"Introduzca el nombre \")\n",
        "print(\"¡ Bienvenido\", Nombre,\"!\")"
      ]
    },
    {
      "cell_type": "code",
      "source": [
        "#2. Cree un programa que calcule el peso (peso = masa * gravedad). El usuario ingresará la masa y la gravedad siempre será 9.81.\n",
        "masa = input(\"Ingrese la masa del cuerpo \")\n",
        "gravedad = 9.81\n",
        "peso= float(masa)*float(gravedad)\n",
        "print(\"El peso es\", peso)"
      ],
      "metadata": {
        "colab": {
          "base_uri": "https://localhost:8080/"
        },
        "id": "SKK5lGn31bYJ",
        "outputId": "7604b173-4f28-4b95-f9ae-9dd5f6bdd67b"
      },
      "execution_count": 31,
      "outputs": [
        {
          "output_type": "stream",
          "name": "stdout",
          "text": [
            "Ingrese la masa del cuerpo 3.\n",
            "El peso es 29.43\n"
          ]
        }
      ]
    },
    {
      "cell_type": "code",
      "source": [
        "#3. Haz un programa que calcule el área de un trapezoide. El usuario debe ingresar los valores de la base mayor (bb), la base menor (b) y la altura (h). Fórmula:area(b+bb).h/2\n",
        "base_mayor = input(\"Ingrese el número de base mayor \")\n",
        "base_menor = input(\"Ingrese el número de base menor \")\n",
        "altura = input(\"Ingrese la altura \")\n",
        "area_trapecio = ((float(base_menor) + float(base_mayor)) * float(altura)) / float(2)\n",
        "print(\"El área del trapecio es\", area_trapecio)\n",
        "\n"
      ],
      "metadata": {
        "colab": {
          "base_uri": "https://localhost:8080/"
        },
        "id": "otWfJ-H72slR",
        "outputId": "c35c34fd-d62b-4bc4-e38c-e60e05b7e55d"
      },
      "execution_count": 30,
      "outputs": [
        {
          "output_type": "stream",
          "name": "stdout",
          "text": [
            "Ingrese el número de base mayor 3\n",
            "Ingrese el número de base menor 5.2\n",
            "Ingrese la altura 1\n",
            "El área del trapecio es 4.1\n"
          ]
        }
      ]
    },
    {
      "cell_type": "code",
      "source": [
        "#4. Escriba un programa que reciba un número y diga si es par o impar.\n",
        "num = int(input(\"Escriba un número par o impar \"))\n",
        "if num %2 == 0:\n",
        "  print(\"El número\", num, \"es par\")\n",
        "else:\n",
        "  print (\"El número\", num, \"es impar\")"
      ],
      "metadata": {
        "colab": {
          "base_uri": "https://localhost:8080/"
        },
        "id": "SS0Yszsr42VW",
        "outputId": "800941d9-5275-4724-a458-a90064f46f30"
      },
      "execution_count": 42,
      "outputs": [
        {
          "output_type": "stream",
          "name": "stdout",
          "text": [
            "Escriba un número par o impar 5\n",
            "El número 5 es impar\n"
          ]
        }
      ]
    },
    {
      "cell_type": "code",
      "source": [
        "#5. Pídale al usuario que ingrese una edad e imprima en la pantalla a qué fase de la vida pertenece la edad. \n",
        "#Hasta 11 años - etapa infantil, de 12 a 20 años - adolescencia, de 21 a 74 años - adulto, y de 75 años - vejez..\n",
        "edad = int(input(\"Introduzca su edad, por favor \"))\n",
        "infantil = range(1,12)\n",
        "adolescencia = range(12,21)\n",
        "adultez = range(21,76)\n",
        "if edad in infantil:\n",
        "  print(\"Su edad pertenece a la etapa infantil\")\n",
        "elif edad in adolescencia:\n",
        "  print(\"Su edad pertenece a la etapa adolescencia\")\n",
        "elif edad in adultez:\n",
        "  print(\"Su edad pertenece a la etapa adultez\")\n",
        "else:\n",
        "  print(\"Su edad pertenece a la etapa vejez\")"
      ],
      "metadata": {
        "colab": {
          "base_uri": "https://localhost:8080/"
        },
        "id": "rJWgIT4G8Whu",
        "outputId": "ab33f9f2-69ed-4eb4-97de-590ccc361e24"
      },
      "execution_count": 21,
      "outputs": [
        {
          "output_type": "stream",
          "name": "stdout",
          "text": [
            "Introduzca su edad, por favor 15\n",
            "Su edad pertenece a la etapa adolescencia\n"
          ]
        }
      ]
    },
    {
      "cell_type": "code",
      "source": [
        "#6. Haz, usando el while, un programa que imprima los números de un intervalo dado [inicio, fin]. Deben introducirse los valores inicial y final.\n",
        "valor_inicial = input(\"Introduzca un valor inicial \")\n",
        "valor_final = input(\"Introduzca un valor final \")\n",
        "while valor_inicial <0:\n",
        "  valor_inicial+=1"
      ],
      "metadata": {
        "colab": {
          "base_uri": "https://localhost:8080/",
          "height": 130
        },
        "id": "8lRwOScc1qRy",
        "outputId": "71c92154-681a-4e13-963a-2121e2520545"
      },
      "execution_count": 3,
      "outputs": [
        {
          "output_type": "error",
          "ename": "SyntaxError",
          "evalue": "ignored",
          "traceback": [
            "\u001b[0;36m  File \u001b[0;32m\"<ipython-input-3-7f25a3edc567>\"\u001b[0;36m, line \u001b[0;32m4\u001b[0m\n\u001b[0;31m    while valor_inicial in valor_final\u001b[0m\n\u001b[0m                                      ^\u001b[0m\n\u001b[0;31mSyntaxError\u001b[0m\u001b[0;31m:\u001b[0m invalid syntax\n"
          ]
        }
      ]
    },
    {
      "cell_type": "code",
      "source": [
        "#7. Ahora, utilizando el mismo razonamiento que en el ejercicio anterior, cree el programa con for."
      ],
      "metadata": {
        "id": "DoiDVTe01uUp"
      },
      "execution_count": null,
      "outputs": []
    },
    {
      "cell_type": "code",
      "source": [
        "#8.  Usando el while, crea un algoritmo que imprima la cuenta regresiva hasta el comienzo de una carrera. 3, 2, 1\n",
        "while (3,2,1)\n",
        "print(list)"
      ],
      "metadata": {
        "colab": {
          "base_uri": "https://localhost:8080/",
          "height": 130
        },
        "id": "mui_uqa11v5R",
        "outputId": "04849566-f5c6-430c-938b-9d2d5e201b96"
      },
      "execution_count": 1,
      "outputs": [
        {
          "output_type": "error",
          "ename": "SyntaxError",
          "evalue": "ignored",
          "traceback": [
            "\u001b[0;36m  File \u001b[0;32m\"<ipython-input-1-8156d1f43f1c>\"\u001b[0;36m, line \u001b[0;32m2\u001b[0m\n\u001b[0;31m    while (3,2,1)\u001b[0m\n\u001b[0m                 ^\u001b[0m\n\u001b[0;31mSyntaxError\u001b[0m\u001b[0;31m:\u001b[0m invalid syntax\n"
          ]
        }
      ]
    }
  ]
}